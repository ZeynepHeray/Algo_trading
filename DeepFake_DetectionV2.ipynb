{
  "nbformat": 4,
  "nbformat_minor": 0,
  "metadata": {
    "colab": {
      "provenance": [],
      "authorship_tag": "ABX9TyPHgjTtJwh1LX4Zw4TnDR1q",
      "include_colab_link": true
    },
    "kernelspec": {
      "name": "python3",
      "display_name": "Python 3"
    },
    "language_info": {
      "name": "python"
    }
  },
  "cells": [
    {
      "cell_type": "markdown",
      "metadata": {
        "id": "view-in-github",
        "colab_type": "text"
      },
      "source": [
        "<a href=\"https://colab.research.google.com/github/ZeynepHeray/Algo_trading/blob/master/DeepFake_DetectionV2.ipynb\" target=\"_parent\"><img src=\"https://colab.research.google.com/assets/colab-badge.svg\" alt=\"Open In Colab\"/></a>"
      ]
    },
    {
      "cell_type": "code",
      "execution_count": null,
      "metadata": {
        "colab": {
          "base_uri": "https://localhost:8080/"
        },
        "id": "XIMgz_Z0Kv1J",
        "outputId": "1a5eff7e-a86d-4a78-a2de-b9e310d0372e"
      },
      "outputs": [
        {
          "output_type": "stream",
          "name": "stdout",
          "text": [
            "Mounted at /content/drive\n"
          ]
        }
      ],
      "source": [
        "from google.colab import drive\n",
        "drive.mount('/content/drive')"
      ]
    },
    {
      "cell_type": "code",
      "source": [
        "!pip install face_recognition"
      ],
      "metadata": {
        "id": "FpYwe-GJK0U2"
      },
      "execution_count": null,
      "outputs": []
    },
    {
      "cell_type": "code",
      "source": [
        "import json\n",
        "import cv2\n",
        "import os\n",
        "import torch\n",
        "import face_recognition\n",
        "from torchvision import transforms\n",
        "from PIL import Image\n",
        "from torch.utils.data import Dataset, DataLoader\n",
        "import torch.nn as nn\n",
        "import torch.optim as optim\n",
        "from sklearn.metrics import accuracy_score, classification_report\n",
        "import copy"
      ],
      "metadata": {
        "id": "wt6xWj2LK2RU"
      },
      "execution_count": null,
      "outputs": []
    },
    {
      "cell_type": "code",
      "source": [
        "with open('/content/drive/MyDrive/trainData/metadata.json') as f:\n",
        "    labels = json.load(f)"
      ],
      "metadata": {
        "id": "2Rx-Sp5dK8Ea"
      },
      "execution_count": null,
      "outputs": []
    },
    {
      "cell_type": "code",
      "source": [
        "def extract_frames_and_labels(video_path, label, frame_interval=30):\n",
        "    video_capture = cv2.VideoCapture(video_path)\n",
        "    frames = []\n",
        "    labels = []\n",
        "    frame_count = 0\n",
        "\n",
        "    while video_capture.isOpened():\n",
        "        ret, frame = video_capture.read()\n",
        "        if not ret:\n",
        "            break\n",
        "\n",
        "        if frame_count % frame_interval == 0:\n",
        "            face_locations = face_recognition.face_locations(frame)\n",
        "            for face_location in face_locations:\n",
        "                top, right, bottom, left = face_location\n",
        "                face_image = frame[top:bottom, left:right]\n",
        "                face_image = cv2.cvtColor(face_image, cv2.COLOR_BGR2RGB)\n",
        "                face_image = Image.fromarray(face_image)\n",
        "                frames.append(face_image)\n",
        "                labels.append(label)\n",
        "        frame_count += 1\n",
        "\n",
        "    video_capture.release()\n",
        "    return frames, labels\n"
      ],
      "metadata": {
        "id": "kY9H8hGnLDXQ"
      },
      "execution_count": null,
      "outputs": []
    },
    {
      "cell_type": "code",
      "source": [
        "import pickle\n",
        "\n",
        "# Frame'leri ve etiketleri kaydetmek için dizin oluşturma\n",
        "frames_dir = '/content/drive/MyDrive/trainData/frames'\n",
        "os.makedirs(frames_dir, exist_ok=True)\n",
        "\n",
        "all_frames = []\n",
        "all_labels = []\n",
        "\n",
        "for video_file, info in labels.items():\n",
        "    label = 0 if info['label'] == 'REAL' else 1\n",
        "    video_path = os.path.join('/content/drive/MyDrive/trainData/dfdc_train_part_32', video_file)\n",
        "    frames, frame_labels = extract_frames_and_labels(video_path, label)\n",
        "    all_frames.extend(frames)\n",
        "    all_labels.extend(frame_labels)\n",
        "\n",
        "# Frame'leri ve etiketleri pickle dosyasına kaydetme\n",
        "with open(os.path.join(frames_dir, 'all_frames.pkl'), 'wb') as f:\n",
        "    pickle.dump(all_frames, f)\n",
        "with open(os.path.join(frames_dir, 'all_labels.pkl'), 'wb') as f:\n",
        "    pickle.dump(all_labels, f)\n"
      ],
      "metadata": {
        "id": "rirppTbULRl9"
      },
      "execution_count": null,
      "outputs": []
    }
  ]
}